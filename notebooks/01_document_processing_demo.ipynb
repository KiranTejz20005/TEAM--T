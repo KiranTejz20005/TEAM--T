{
  "cells": [
    {
      "cell_type": "markdown",
      "metadata": {},
      "source": [
        "# FinMDA-Bot: Document Processing Demo\n",
        "\n",
        "This notebook demonstrates the document processing capabilities of FinMDA-Bot, including PDF text extraction, Excel data parsing, and financial data extraction.\n"
      ]
    },
    {
      "cell_type": "code",
      "execution_count": null,
      "metadata": {},
      "outputs": [],
      "source": [
        "# Import required libraries\n",
        "import sys\n",
        "import os\n",
        "import pandas as pd\n",
        "import numpy as np\n",
        "import matplotlib.pyplot as plt\n",
        "import plotly.express as px\n",
        "import plotly.graph_objects as go\n",
        "from plotly.subplots import make_subplots\n",
        "\n",
        "# Add the backend directory to the path\n",
        "sys.path.append('../backend')\n",
        "\n",
        "# Import FinMDA-Bot services\n",
        "from app.services.document_processor import DocumentProcessor\n",
        "from app.services.financial_analyzer import FinancialAnalyzer\n",
        "from app.services.anomaly_detector import AnomalyDetector\n"
      ]
    }
  ],
  "metadata": {
    "kernelspec": {
      "display_name": "Python 3",
      "language": "python",
      "name": "python3"
    },
    "language_info": {
      "name": "python",
      "version": "3.13.5"
    }
  },
  "nbformat": 4,
  "nbformat_minor": 2
}
